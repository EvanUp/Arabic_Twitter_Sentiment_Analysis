{
 "cells": [
  {
   "cell_type": "code",
   "execution_count": 27,
   "metadata": {},
   "outputs": [],
   "source": [
    "import pandas as pd\n",
    "import numpy as np\n",
    "import re\n",
    "from pathlib import Path\n",
    "import os\n",
    "import codecs\n",
    "import glob"
   ]
  },
  {
   "cell_type": "markdown",
   "metadata": {},
   "source": [
    "I have labeled arabic sentiment analysis documents from both UCI and a Kaggle repository. This first section will join UCI tweets to the Kaggle training set data."
   ]
  },
  {
   "cell_type": "code",
   "execution_count": 89,
   "metadata": {},
   "outputs": [],
   "source": [
    "pos_path = \"/Users/evanwilliams/Projects/Arabic_Twitter_Sentiment/UCI/Positive\"\n",
    "neg_path = \"/Users/evanwilliams/Projects/Arabic_Twitter_Sentiment/UCI/Negative\""
   ]
  },
  {
   "cell_type": "code",
   "execution_count": null,
   "metadata": {},
   "outputs": [],
   "source": []
  },
  {
   "cell_type": "code",
   "execution_count": 91,
   "metadata": {},
   "outputs": [],
   "source": [
    "def get_text(path):\n",
    "    \"\"\"\n",
    "    imports UCI data while ignoring non utf-8 encoded chars\n",
    "    \"\"\"\n",
    "    text = \"\"\n",
    "    text_words = []\n",
    "    # use codecs.open to ingnore non utf-8 encoded chars; instead of \"with open(path, 'r') as myfile:\"\n",
    "    with codecs.open(path, \"r\", encoding=\"utf-8\", errors=\"ignore\") as myfile:\n",
    "        text = myfile.read()\n",
    "    words = text.split(\" \")\n",
    "    for word in words:\n",
    "        text_words.append(word)\n",
    "    return ' '.join(text_words)"
   ]
  },
  {
   "cell_type": "code",
   "execution_count": 92,
   "metadata": {},
   "outputs": [],
   "source": [
    "def get_data(path):\n",
    "    \"\"\"\n",
    "    imports UCI data \n",
    "    \"\"\"\n",
    "    texts = []\n",
    "    all_paths = glob.glob(os.path.join(path,'*.txt'))\n",
    "    for path in all_paths: \n",
    "        texts.append(get_text(path))\n",
    "    return texts"
   ]
  },
  {
   "cell_type": "code",
   "execution_count": 95,
   "metadata": {},
   "outputs": [],
   "source": [
    "positive_text = get_data(pos_path)\n",
    "negative_text = get_data(neg_path)"
   ]
  },
  {
   "cell_type": "code",
   "execution_count": 101,
   "metadata": {},
   "outputs": [],
   "source": [
    "def append_UCI(positive_text, negative_text):\n",
    "    \"\"\"\n",
    "    converts text to dataframes and appends them together\n",
    "    \"\"\"\n",
    "    pos = pd.DataFrame(positive_text, columns = [\"text\"])\n",
    "    pos['sentiment'] = \"positive\"\n",
    "    neg = pd.DataFrame(negative_text, columns = [\"text\"])\n",
    "    neg['sentiment'] = \"negative\"\n",
    "    sentiment = pd.concat([pos, neg])\n",
    "    return sentiment"
   ]
  },
  {
   "cell_type": "code",
   "execution_count": 102,
   "metadata": {},
   "outputs": [],
   "source": [
    "uci_df = append_UCI(positive_text, negative_text)"
   ]
  },
  {
   "cell_type": "code",
   "execution_count": 130,
   "metadata": {},
   "outputs": [],
   "source": [
    "def tsv_merge(path):\n",
    "    all_files = glob.glob(path + \"/*.tsv\")\n",
    "    li = []\n",
    "    for filename in all_files:\n",
    "        df = pd.read_table(filename, index_col=None)\n",
    "        df.columns = ['sentiment', 'text']\n",
    "        li.append(df)\n",
    "    frame = pd.concat(li, axis=0, ignore_index=True)\n",
    "    return frame"
   ]
  },
  {
   "cell_type": "markdown",
   "metadata": {},
   "source": [
    "Time to bring in kaggle data & merge the two. change column names to be consistent with UCI."
   ]
  },
  {
   "cell_type": "code",
   "execution_count": 137,
   "metadata": {},
   "outputs": [],
   "source": [
    "kaggle = tsv_merge(\"../Data\")"
   ]
  },
  {
   "cell_type": "code",
   "execution_count": 138,
   "metadata": {},
   "outputs": [],
   "source": [
    "cleanup_sentiment = {\"sentiment\": {\"neg\": \"negative\", \"pos\": \"positive\"}}\n",
    "kaggle.replace(cleanup_sentiment, inplace=True)"
   ]
  },
  {
   "cell_type": "code",
   "execution_count": 139,
   "metadata": {},
   "outputs": [],
   "source": [
    "df = pd.concat([kaggle, uci_df])"
   ]
  },
  {
   "cell_type": "code",
   "execution_count": null,
   "metadata": {},
   "outputs": [],
   "source": []
  }
 ],
 "metadata": {
  "kernelspec": {
   "display_name": "Python 3",
   "language": "python",
   "name": "python3"
  },
  "language_info": {
   "codemirror_mode": {
    "name": "ipython",
    "version": 3
   },
   "file_extension": ".py",
   "mimetype": "text/x-python",
   "name": "python",
   "nbconvert_exporter": "python",
   "pygments_lexer": "ipython3",
   "version": "3.8.1"
  }
 },
 "nbformat": 4,
 "nbformat_minor": 4
}
