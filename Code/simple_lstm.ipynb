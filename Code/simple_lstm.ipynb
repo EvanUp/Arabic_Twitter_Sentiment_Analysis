{
 "cells": [
  {
   "cell_type": "markdown",
   "metadata": {},
   "source": [
    "## Arabic Sentiment Analysis Model (LSTM) with no embeddings"
   ]
  },
  {
   "cell_type": "code",
   "execution_count": 52,
   "metadata": {},
   "outputs": [],
   "source": [
    "from keras.models import load_model\n",
    "from keras.preprocessing.sequence import pad_sequences\n",
    "import pickle\n",
    "import os\n",
    "import numpy as np\n",
    "import pandas as pd"
   ]
  },
  {
   "cell_type": "code",
   "execution_count": 57,
   "metadata": {},
   "outputs": [],
   "source": [
    "def get_sentiment(df, text_column):\n",
    "    \"\"\"\n",
    "    Takes your dataframe and the column of that dataframe \n",
    "    that you want to run sentiment analysis on. Returns\n",
    "    dataframe with sentiment score and sentiment class (positive or negative)\n",
    "    \"\"\"\n",
    "    model = load_model('../Models/simple_lstm/arabic_sentiment_lstm.hdf5')\n",
    "    with open(\"../Models/simple_lstm/arabic_sentiment_lstm.pickle\", \"rb\") as f:\n",
    "        tokenizer = pickle.load(f)\n",
    "    sequences = tokenizer.texts_to_sequences(df['text'])\n",
    "    data = pad_sequences(sequences, maxlen=100)\n",
    "    num_class = model.predict(data)\n",
    "    df['sentiment_score'] = num_class\n",
    "    df['sentiment_class'] = np.where(df['sentiment_score']>=0.5, 'positive', 'negative')\n",
    "    return df"
   ]
  },
  {
   "cell_type": "markdown",
   "metadata": {},
   "source": [
    "## Read in a dataframe"
   ]
  },
  {
   "cell_type": "code",
   "execution_count": 56,
   "metadata": {},
   "outputs": [],
   "source": [
    "df = pd.read_csv('../Data/final.csv')"
   ]
  },
  {
   "cell_type": "markdown",
   "metadata": {},
   "source": [
    "## Run sentiment analysis. Could take a minute or two."
   ]
  },
  {
   "cell_type": "code",
   "execution_count": 58,
   "metadata": {},
   "outputs": [
    {
     "name": "stderr",
     "output_type": "stream",
     "text": [
      "/Users/evanwilliams/.pyenv/versions/3.7.6/lib/python3.7/site-packages/tensorflow_core/python/framework/indexed_slices.py:433: UserWarning: Converting sparse IndexedSlices to a dense Tensor of unknown shape. This may consume a large amount of memory.\n",
      "  \"Converting sparse IndexedSlices to a dense Tensor of unknown shape. \"\n"
     ]
    }
   ],
   "source": [
    "# ignore the Tensor of unknown shape model\n",
    "sentiment_df = get_sentiment(df, df['text'])"
   ]
  },
  {
   "cell_type": "code",
   "execution_count": null,
   "metadata": {},
   "outputs": [],
   "source": []
  },
  {
   "cell_type": "code",
   "execution_count": null,
   "metadata": {},
   "outputs": [],
   "source": []
  }
 ],
 "metadata": {
  "kernelspec": {
   "display_name": "Python 3",
   "language": "python",
   "name": "python3"
  },
  "language_info": {
   "codemirror_mode": {
    "name": "ipython",
    "version": 3
   },
   "file_extension": ".py",
   "mimetype": "text/x-python",
   "name": "python",
   "nbconvert_exporter": "python",
   "pygments_lexer": "ipython3",
   "version": "3.7.6"
  }
 },
 "nbformat": 4,
 "nbformat_minor": 4
}
